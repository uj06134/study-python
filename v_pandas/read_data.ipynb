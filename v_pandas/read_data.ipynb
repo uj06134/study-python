{
 "cells": [
  {
   "cell_type": "code",
   "execution_count": 1,
   "id": "initial_id",
   "metadata": {
    "collapsed": true,
    "ExecuteTime": {
     "end_time": "2024-03-21T09:28:00.952256600Z",
     "start_time": "2024-03-21T09:28:00.485722400Z"
    }
   },
   "outputs": [],
   "source": [
    "import pandas as pd"
   ]
  },
  {
   "cell_type": "code",
   "outputs": [
    {
     "data": {
      "text/plain": "      Unnamed: 0         출시일  디스플레이  메모리     출시 버전 Face ID\n0       iPhone 7  2016-09-16    4.7  2GB  iOS 10.0      No\n1  iPhone 7 Plus  2016-09-16    5.5  3GB  iOS 10.0      No\n2       iPhone 8  2017-09-22    4.7  2GB  iOS 11.0      No\n3  iPhone 8 Plus  2017-09-22    5.5  3GB  iOS 11.0      No\n4       iPhone X  2017-11-03    5.8  3GB  iOS 11.1     Yes\n5      iPhone XS  2018-09-21    5.8  4GB  iOS 12.0     Yes\n6  iPhone XS Max  2018-09-21    6.5  4GB  iOS 12.0     Yes",
      "text/html": "<div>\n<style scoped>\n    .dataframe tbody tr th:only-of-type {\n        vertical-align: middle;\n    }\n\n    .dataframe tbody tr th {\n        vertical-align: top;\n    }\n\n    .dataframe thead th {\n        text-align: right;\n    }\n</style>\n<table border=\"1\" class=\"dataframe\">\n  <thead>\n    <tr style=\"text-align: right;\">\n      <th></th>\n      <th>Unnamed: 0</th>\n      <th>출시일</th>\n      <th>디스플레이</th>\n      <th>메모리</th>\n      <th>출시 버전</th>\n      <th>Face ID</th>\n    </tr>\n  </thead>\n  <tbody>\n    <tr>\n      <th>0</th>\n      <td>iPhone 7</td>\n      <td>2016-09-16</td>\n      <td>4.7</td>\n      <td>2GB</td>\n      <td>iOS 10.0</td>\n      <td>No</td>\n    </tr>\n    <tr>\n      <th>1</th>\n      <td>iPhone 7 Plus</td>\n      <td>2016-09-16</td>\n      <td>5.5</td>\n      <td>3GB</td>\n      <td>iOS 10.0</td>\n      <td>No</td>\n    </tr>\n    <tr>\n      <th>2</th>\n      <td>iPhone 8</td>\n      <td>2017-09-22</td>\n      <td>4.7</td>\n      <td>2GB</td>\n      <td>iOS 11.0</td>\n      <td>No</td>\n    </tr>\n    <tr>\n      <th>3</th>\n      <td>iPhone 8 Plus</td>\n      <td>2017-09-22</td>\n      <td>5.5</td>\n      <td>3GB</td>\n      <td>iOS 11.0</td>\n      <td>No</td>\n    </tr>\n    <tr>\n      <th>4</th>\n      <td>iPhone X</td>\n      <td>2017-11-03</td>\n      <td>5.8</td>\n      <td>3GB</td>\n      <td>iOS 11.1</td>\n      <td>Yes</td>\n    </tr>\n    <tr>\n      <th>5</th>\n      <td>iPhone XS</td>\n      <td>2018-09-21</td>\n      <td>5.8</td>\n      <td>4GB</td>\n      <td>iOS 12.0</td>\n      <td>Yes</td>\n    </tr>\n    <tr>\n      <th>6</th>\n      <td>iPhone XS Max</td>\n      <td>2018-09-21</td>\n      <td>6.5</td>\n      <td>4GB</td>\n      <td>iOS 12.0</td>\n      <td>Yes</td>\n    </tr>\n  </tbody>\n</table>\n</div>"
     },
     "execution_count": 8,
     "metadata": {},
     "output_type": "execute_result"
    }
   ],
   "source": [
    "# read_csv를 하면 자동으로 윗줄이 header로 들어감\n",
    "iphone_df = pd.read_csv('data/iphone.csv')\n",
    "iphone_df"
   ],
   "metadata": {
    "collapsed": false,
    "ExecuteTime": {
     "end_time": "2024-03-21T09:30:47.222765400Z",
     "start_time": "2024-03-21T09:30:47.194659500Z"
    }
   },
   "id": "7e45d9c3ad51d8b7",
   "execution_count": 8
  },
  {
   "cell_type": "code",
   "outputs": [
    {
     "data": {
      "text/plain": "               0           1    2    3         4    5\n0       iPhone 7  2016-09-16  4.7  2GB  iOS 10.0   No\n1  iPhone 7 Plus  2016-09-16  5.5  3GB  iOS 10.0   No\n2       iPhone 8  2017-09-22  4.7  2GB  iOS 11.0   No\n3  iPhone 8 Plus  2017-09-22  5.5  3GB  iOS 11.0   No\n4       iPhone X  2017-11-03  5.8  3GB  iOS 11.1  Yes\n5      iPhone XS  2018-09-21  5.8  4GB  iOS 12.0  Yes\n6  iPhone XS Max  2018-09-21  6.5  4GB  iOS 12.0  Yes",
      "text/html": "<div>\n<style scoped>\n    .dataframe tbody tr th:only-of-type {\n        vertical-align: middle;\n    }\n\n    .dataframe tbody tr th {\n        vertical-align: top;\n    }\n\n    .dataframe thead th {\n        text-align: right;\n    }\n</style>\n<table border=\"1\" class=\"dataframe\">\n  <thead>\n    <tr style=\"text-align: right;\">\n      <th></th>\n      <th>0</th>\n      <th>1</th>\n      <th>2</th>\n      <th>3</th>\n      <th>4</th>\n      <th>5</th>\n    </tr>\n  </thead>\n  <tbody>\n    <tr>\n      <th>0</th>\n      <td>iPhone 7</td>\n      <td>2016-09-16</td>\n      <td>4.7</td>\n      <td>2GB</td>\n      <td>iOS 10.0</td>\n      <td>No</td>\n    </tr>\n    <tr>\n      <th>1</th>\n      <td>iPhone 7 Plus</td>\n      <td>2016-09-16</td>\n      <td>5.5</td>\n      <td>3GB</td>\n      <td>iOS 10.0</td>\n      <td>No</td>\n    </tr>\n    <tr>\n      <th>2</th>\n      <td>iPhone 8</td>\n      <td>2017-09-22</td>\n      <td>4.7</td>\n      <td>2GB</td>\n      <td>iOS 11.0</td>\n      <td>No</td>\n    </tr>\n    <tr>\n      <th>3</th>\n      <td>iPhone 8 Plus</td>\n      <td>2017-09-22</td>\n      <td>5.5</td>\n      <td>3GB</td>\n      <td>iOS 11.0</td>\n      <td>No</td>\n    </tr>\n    <tr>\n      <th>4</th>\n      <td>iPhone X</td>\n      <td>2017-11-03</td>\n      <td>5.8</td>\n      <td>3GB</td>\n      <td>iOS 11.1</td>\n      <td>Yes</td>\n    </tr>\n    <tr>\n      <th>5</th>\n      <td>iPhone XS</td>\n      <td>2018-09-21</td>\n      <td>5.8</td>\n      <td>4GB</td>\n      <td>iOS 12.0</td>\n      <td>Yes</td>\n    </tr>\n    <tr>\n      <th>6</th>\n      <td>iPhone XS Max</td>\n      <td>2018-09-21</td>\n      <td>6.5</td>\n      <td>4GB</td>\n      <td>iOS 12.0</td>\n      <td>Yes</td>\n    </tr>\n  </tbody>\n</table>\n</div>"
     },
     "execution_count": 17,
     "metadata": {},
     "output_type": "execute_result"
    }
   ],
   "source": [
    "# header가 없을 경우\n",
    "iphone_none_header_df = pd.read_csv('data/iphone_none_header.csv', header = None)\n",
    "iphone_none_header_df"
   ],
   "metadata": {
    "collapsed": false,
    "ExecuteTime": {
     "end_time": "2024-03-21T09:36:07.324477Z",
     "start_time": "2024-03-21T09:36:07.279545Z"
    }
   },
   "id": "d60f73432599a0c",
   "execution_count": 17
  },
  {
   "cell_type": "code",
   "outputs": [
    {
     "data": {
      "text/plain": "                      출시일  디스플레이  메모리     출시 버전 Face ID\niPhone 7       2016-09-16    4.7  2GB  iOS 10.0      No\niPhone 7 Plus  2016-09-16    5.5  3GB  iOS 10.0      No\niPhone 8       2017-09-22    4.7  2GB  iOS 11.0      No\niPhone 8 Plus  2017-09-22    5.5  3GB  iOS 11.0      No\niPhone X       2017-11-03    5.8  3GB  iOS 11.1     Yes\niPhone XS      2018-09-21    5.8  4GB  iOS 12.0     Yes\niPhone XS Max  2018-09-21    6.5  4GB  iOS 12.0     Yes",
      "text/html": "<div>\n<style scoped>\n    .dataframe tbody tr th:only-of-type {\n        vertical-align: middle;\n    }\n\n    .dataframe tbody tr th {\n        vertical-align: top;\n    }\n\n    .dataframe thead th {\n        text-align: right;\n    }\n</style>\n<table border=\"1\" class=\"dataframe\">\n  <thead>\n    <tr style=\"text-align: right;\">\n      <th></th>\n      <th>출시일</th>\n      <th>디스플레이</th>\n      <th>메모리</th>\n      <th>출시 버전</th>\n      <th>Face ID</th>\n    </tr>\n  </thead>\n  <tbody>\n    <tr>\n      <th>iPhone 7</th>\n      <td>2016-09-16</td>\n      <td>4.7</td>\n      <td>2GB</td>\n      <td>iOS 10.0</td>\n      <td>No</td>\n    </tr>\n    <tr>\n      <th>iPhone 7 Plus</th>\n      <td>2016-09-16</td>\n      <td>5.5</td>\n      <td>3GB</td>\n      <td>iOS 10.0</td>\n      <td>No</td>\n    </tr>\n    <tr>\n      <th>iPhone 8</th>\n      <td>2017-09-22</td>\n      <td>4.7</td>\n      <td>2GB</td>\n      <td>iOS 11.0</td>\n      <td>No</td>\n    </tr>\n    <tr>\n      <th>iPhone 8 Plus</th>\n      <td>2017-09-22</td>\n      <td>5.5</td>\n      <td>3GB</td>\n      <td>iOS 11.0</td>\n      <td>No</td>\n    </tr>\n    <tr>\n      <th>iPhone X</th>\n      <td>2017-11-03</td>\n      <td>5.8</td>\n      <td>3GB</td>\n      <td>iOS 11.1</td>\n      <td>Yes</td>\n    </tr>\n    <tr>\n      <th>iPhone XS</th>\n      <td>2018-09-21</td>\n      <td>5.8</td>\n      <td>4GB</td>\n      <td>iOS 12.0</td>\n      <td>Yes</td>\n    </tr>\n    <tr>\n      <th>iPhone XS Max</th>\n      <td>2018-09-21</td>\n      <td>6.5</td>\n      <td>4GB</td>\n      <td>iOS 12.0</td>\n      <td>Yes</td>\n    </tr>\n  </tbody>\n</table>\n</div>"
     },
     "execution_count": 29,
     "metadata": {},
     "output_type": "execute_result"
    }
   ],
   "source": [
    "# 제품명이 비었을 경우\n",
    "iphone_df = pd.read_csv('data/iphone.csv', index_col=0)\n",
    "iphone_df"
   ],
   "metadata": {
    "collapsed": false,
    "ExecuteTime": {
     "end_time": "2024-03-21T09:39:54.065560300Z",
     "start_time": "2024-03-21T09:39:54.024083900Z"
    }
   },
   "id": "93ce80e8ca890ee0",
   "execution_count": 29
  }
 ],
 "metadata": {
  "kernelspec": {
   "display_name": "Python 3",
   "language": "python",
   "name": "python3"
  },
  "language_info": {
   "codemirror_mode": {
    "name": "ipython",
    "version": 2
   },
   "file_extension": ".py",
   "mimetype": "text/x-python",
   "name": "python",
   "nbconvert_exporter": "python",
   "pygments_lexer": "ipython2",
   "version": "2.7.6"
  }
 },
 "nbformat": 4,
 "nbformat_minor": 5
}
